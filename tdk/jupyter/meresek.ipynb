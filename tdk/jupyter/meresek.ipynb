{
 "cells": [
  {
   "cell_type": "code",
   "execution_count": 2,
   "id": "d5d7a68d-38ca-424b-a5b7-35de83dca102",
   "metadata": {},
   "outputs": [],
   "source": [
    "import pandas as pd\n",
    "import bz2\n",
    "import xml.etree.ElementTree as ET\n",
    "import re\n",
    "import os\n",
    "import glob\n",
    "from pathlib import Path\n",
    "\n",
    "pd.set_option('display.max_colwidth', None)"
   ]
  },
  {
   "cell_type": "code",
   "execution_count": 3,
   "id": "5a73ab31-1e7e-4fbb-82d8-bab05111bed0",
   "metadata": {},
   "outputs": [],
   "source": [
    "BASE_DIR = Path(\"\")  # your project's directory\n",
    "DOT_DIR = BASE_DIR / \"dot_files\"  # should contain the three datasets\n"
   ]
  },
  {
   "cell_type": "code",
   "execution_count": null,
   "id": "9db71b3c-3f23-43ac-b7c2-67fce710bd5a",
   "metadata": {},
   "outputs": [],
   "source": []
  }
 ],
 "metadata": {
  "kernelspec": {
   "display_name": "Python 3 (ipykernel)",
   "language": "python",
   "name": "python3"
  },
  "language_info": {
   "codemirror_mode": {
    "name": "ipython",
    "version": 3
   },
   "file_extension": ".py",
   "mimetype": "text/x-python",
   "name": "python",
   "nbconvert_exporter": "python",
   "pygments_lexer": "ipython3",
   "version": "3.10.7"
  }
 },
 "nbformat": 4,
 "nbformat_minor": 5
}
